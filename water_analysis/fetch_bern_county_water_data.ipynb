{
 "cells": [
  {
   "cell_type": "code",
   "execution_count": null,
   "metadata": {},
   "outputs": [],
   "source": [
    "import streamlit as st\n",
    "import pandas as pd\n",
    "import requests\n",
    "import plotly.express as px\n",
    "\n",
    "# Streamlit app layout\n",
    "st.title('Data Query and Visualization App')\n",
    "\n",
    "# Inputs\n",
    "site = st.text_input('Enter site name', 'Site1')\n",
    "start_date = st.date_input('Start date')\n",
    "end_date = st.date_input('End date')"
   ]
  },
  {
   "cell_type": "code",
   "execution_count": null,
   "metadata": {},
   "outputs": [],
   "source": [
    "# Fetch and display the data\n",
    "if st.button('Fetch Data'):\n",
    "    df = fetch_data(site, start_date, end_date)\n",
    "    if not df.empty:\n",
    "        st.write(df)\n",
    "        \n",
    "        # Plotting\n",
    "        fig = px.line(df, x='date', y='value', title=f'Data from {site}')\n",
    "        st.plotly_chart(fig)\n",
    "    else:\n",
    "        st.write(\"No data found for the selected criteria.\")\n",
    "    "
   ]
  },
  {
   "cell_type": "code",
   "execution_count": null,
   "metadata": {},
   "outputs": [],
   "source": []
  }
 ],
 "metadata": {
  "language_info": {
   "name": "python"
  }
 },
 "nbformat": 4,
 "nbformat_minor": 2
}
